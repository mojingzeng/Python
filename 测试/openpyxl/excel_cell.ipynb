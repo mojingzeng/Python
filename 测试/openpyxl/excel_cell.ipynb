{
 "cells": [
  {
   "cell_type": "markdown",
   "metadata": {},
   "source": [
    "### openpyxl 模块单元格的操作\n",
    "- 创建工作簿"
   ]
  },
  {
   "cell_type": "code",
   "execution_count": 1,
   "metadata": {},
   "outputs": [],
   "source": [
    "from openpyxl import Workbook\n",
    "wb = Workbook()\n",
    "ws = wb.active"
   ]
  },
  {
   "cell_type": "markdown",
   "metadata": {},
   "source": [
    "- 访问多个单元\n",
    "  - **切片**：可以使用切片的方式来访问单元格范围：返回值是一个数组对象"
   ]
  },
  {
   "cell_type": "code",
   "execution_count": 8,
   "metadata": {},
   "outputs": [],
   "source": [
    "cell_range = ws[\"A1\":\"C1\"]"
   ]
  },
  {
   "cell_type": "markdown",
   "metadata": {},
   "source": [
    "   - 获取行或列的范围：\n",
    "  "
   ]
  },
  {
   "cell_type": "code",
   "execution_count": 5,
   "metadata": {},
   "outputs": [
    {
     "name": "stdout",
     "output_type": "stream",
     "text": [
      "(<Cell 'Sheet'.C1>, <Cell 'Sheet'.C2>)\n"
     ]
    }
   ],
   "source": [
    "colC = ws[\"C\"]\n",
    "print(colC)"
   ]
  },
  {
   "cell_type": "markdown",
   "metadata": {},
   "source": [
    "- **Worksheet.iter_rows()** 方法"
   ]
  },
  {
   "cell_type": "code",
   "execution_count": 11,
   "metadata": {},
   "outputs": [
    {
     "name": "stdout",
     "output_type": "stream",
     "text": [
      "<Cell 'Sheet'.A1>\n",
      "<Cell 'Sheet'.B1>\n",
      "<Cell 'Sheet'.C1>\n",
      "<Cell 'Sheet'.A2>\n",
      "<Cell 'Sheet'.B2>\n",
      "<Cell 'Sheet'.C2>\n"
     ]
    }
   ],
   "source": [
    "for row in ws.iter_rows(min_row=1,max_col=3,max_row=2):\n",
    "    for cell in row:\n",
    "        print(cell)"
   ]
  },
  {
   "cell_type": "markdown",
   "metadata": {},
   "source": [
    "- **Workbook.iter_col()** 方法\n",
    "  - 注意：出于性能的原因，Worksheet.iter_cols() 不能以**只读**模式使用"
   ]
  },
  {
   "cell_type": "markdown",
   "metadata": {},
   "source": [
    "for col in ws.iter_cols(min_row=1,max_col=3,max_row=2):\n",
    "    for cell in col:\n",
    "        print(cell)"
   ]
  },
  {
   "cell_type": "markdown",
   "metadata": {},
   "source": [
    "- **Worksheet.rows**属性：遍历文件的所有行或列"
   ]
  },
  {
   "cell_type": "code",
   "execution_count": 14,
   "metadata": {},
   "outputs": [
    {
     "data": {
      "text/plain": [
       "((<Cell 'Sheet'.A1>, <Cell 'Sheet'.B1>, <Cell 'Sheet'.C1>),\n",
       " (<Cell 'Sheet'.A2>, <Cell 'Sheet'.B2>, <Cell 'Sheet'.C2>),\n",
       " (<Cell 'Sheet'.A3>, <Cell 'Sheet'.B3>, <Cell 'Sheet'.C3>),\n",
       " (<Cell 'Sheet'.A4>, <Cell 'Sheet'.B4>, <Cell 'Sheet'.C4>),\n",
       " (<Cell 'Sheet'.A5>, <Cell 'Sheet'.B5>, <Cell 'Sheet'.C5>),\n",
       " (<Cell 'Sheet'.A6>, <Cell 'Sheet'.B6>, <Cell 'Sheet'.C6>),\n",
       " (<Cell 'Sheet'.A7>, <Cell 'Sheet'.B7>, <Cell 'Sheet'.C7>),\n",
       " (<Cell 'Sheet'.A8>, <Cell 'Sheet'.B8>, <Cell 'Sheet'.C8>),\n",
       " (<Cell 'Sheet'.A9>, <Cell 'Sheet'.B9>, <Cell 'Sheet'.C9>))"
      ]
     },
     "execution_count": 14,
     "metadata": {},
     "output_type": "execute_result"
    }
   ],
   "source": [
    "ws[\"C9\"] = \"Hello world\"\n",
    "tuple(ws.rows)"
   ]
  },
  {
   "cell_type": "markdown",
   "metadata": {},
   "source": [
    "- **Worksheet.columns**属性:\n",
    "  - 注意：出于性能的原因，Worksheet.columns 不能以只读模式使用"
   ]
  },
  {
   "cell_type": "code",
   "execution_count": 15,
   "metadata": {},
   "outputs": [
    {
     "data": {
      "text/plain": [
       "((<Cell 'Sheet'.A1>,\n",
       "  <Cell 'Sheet'.A2>,\n",
       "  <Cell 'Sheet'.A3>,\n",
       "  <Cell 'Sheet'.A4>,\n",
       "  <Cell 'Sheet'.A5>,\n",
       "  <Cell 'Sheet'.A6>,\n",
       "  <Cell 'Sheet'.A7>,\n",
       "  <Cell 'Sheet'.A8>,\n",
       "  <Cell 'Sheet'.A9>),\n",
       " (<Cell 'Sheet'.B1>,\n",
       "  <Cell 'Sheet'.B2>,\n",
       "  <Cell 'Sheet'.B3>,\n",
       "  <Cell 'Sheet'.B4>,\n",
       "  <Cell 'Sheet'.B5>,\n",
       "  <Cell 'Sheet'.B6>,\n",
       "  <Cell 'Sheet'.B7>,\n",
       "  <Cell 'Sheet'.B8>,\n",
       "  <Cell 'Sheet'.B9>),\n",
       " (<Cell 'Sheet'.C1>,\n",
       "  <Cell 'Sheet'.C2>,\n",
       "  <Cell 'Sheet'.C3>,\n",
       "  <Cell 'Sheet'.C4>,\n",
       "  <Cell 'Sheet'.C5>,\n",
       "  <Cell 'Sheet'.C6>,\n",
       "  <Cell 'Sheet'.C7>,\n",
       "  <Cell 'Sheet'.C8>,\n",
       "  <Cell 'Sheet'.C9>))"
      ]
     },
     "execution_count": 15,
     "metadata": {},
     "output_type": "execute_result"
    }
   ],
   "source": [
    "tuple(ws.columns)"
   ]
  },
  {
   "cell_type": "markdown",
   "metadata": {},
   "source": [
    "- W"
   ]
  }
 ],
 "metadata": {
  "kernelspec": {
   "display_name": "Python 3",
   "language": "python",
   "name": "python3"
  },
  "language_info": {
   "codemirror_mode": {
    "name": "ipython",
    "version": 3
   },
   "file_extension": ".py",
   "mimetype": "text/x-python",
   "name": "python",
   "nbconvert_exporter": "python",
   "pygments_lexer": "ipython3",
   "version": "3.6.4"
  }
 },
 "nbformat": 4,
 "nbformat_minor": 2
}

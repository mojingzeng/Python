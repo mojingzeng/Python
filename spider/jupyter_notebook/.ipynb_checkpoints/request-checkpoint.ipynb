{
 "cells": [
  {
   "cell_type": "markdown",
   "metadata": {},
   "source": [
    "### requests 模块\n",
    "   1. 什么是requests模块\n",
    "       - python 原生一个基于网络请求的模块，用于模拟浏览器发起请求。\n",
    "       \n",
    "   2. 为什么要使用 requests 模块\n",
    "       - 1. 自动处理url编码；\n",
    "       - 2. 自动处理 post 请求的参数\n",
    "       - 3. 简化 cookie 的代理的操作\n",
    "           - 创建一个cookiejar 对象\n",
    "           - 创建一个handler对象\n",
    "           - 创建一个 operner\n",
    "           - 创建一个 handler 对象，代理ip和端口封装到该对象\n",
    "           - 创建openner对象\n",
    "           \n",
    "   3. requests 如何被使用\n",
    "       - 安装： pip install requests\n",
    "       - 使用流程： \n",
    "           - 1.指定url；\n",
    "           - 2.使用requests模块发起请求\n",
    "           - 3.获取响应的数据\n",
    "           - 4. 进行持久化存储\n",
    "      \n",
    "   4. requests 库的7个主要方法：\n",
    "      - **requests.request()**: 构造一个请求，支撑以下各种方法的基础方法；\n",
    "      - **requests.get()**: 获取 HTML 网页的主要方法，对应于 HTTP 的 GET;\n",
    "      - **requests.head()**: 获取 HTML 网页头信息的方法，对应于 HTTP 的 HEAD;\n",
    "      - **requests.post()**: 向 HTML 网页提交 POST 请求的方法，对应于 HTTP 的POST；\n",
    "      - **requests.put()**: 向 HTML 网页提交 PUT 请求的方法，对应于 HTTP 的 PUT;\n",
    "      - **requests.patch()**: 向 HTML 网页提交局部修改请求，对应于 HTTP 的PATCH;\n",
    "      - **requests.delete()**: 向 HTML 网页提交删除请求，对应于 HTTP 的 DELETE;\n",
    "   5. request 库中的13个参数(**kwargs)：\n",
    "      - **params**: 字典或字节序列，作为参数增加到 url 中；\n",
    "      - **data**: 字典、字节序列或文件对象，作为 Request 的内容；\n",
    "      - **json**: JSON 格式的数据，作为 Request 的内容；\n",
    "      - **headers**: 字典，HTTP 定制头信息；\n",
    "      - **cookies**: 字典或 CookieJar、Request 中的cookie；\n",
    "      - **auth**：元组，支持 HTTP 认证功能；\n",
    "      - **files**：字典类型，传输文件；\n",
    "      - **timeout**：设定超时时间，秒为单位；\n",
    "      - **proxies**：字典类型，设定访问代理服务器，可以增加登录认证；\n",
    "      - **allow_redirects**：True/False ，默认为True，重定向开关；\n",
    "      - **stream**：True/False ，默认为 True，获取内容立即下载开关；\n",
    "      - **verify**：True/False, 默认为True，认证 ssl 证书开关；\n",
    "      - **cert**：本地 ssl 证书路径；\n",
    "   5. requests 库中的异常：\n",
    "      - **requests.ConnectionError**: 网络连接错误异常，如 DNS 查询失败，拒绝连接等\n",
    "      - **requests.HTTPError**: HTTP 错误异常；\n",
    "      - **requests.URLRequired**: URL缺失异常；\n",
    "      - **requests.TooManyRedirectd**: 超过最大重定向次数，产生重定向异常；\n",
    "      - **requests.ConnecTimeout**: 连接远程服务器超时异常；\n",
    "      - **requests.Timeout**: 请求URL超时，产生超时异常；\n",
    "      \n",
    "   6. 通过5个基于requests 模块的爬虫项目对该模块进行系统学习何巩固\n",
    "       - get 请求\n",
    "       - post 请求\n",
    "       - ajax 请求（get）\n",
    "       - 综合\n",
    "       \n",
    "#### 基于 requests 模块发起的get请求\n",
    "   - 需求：爬取百度的首页的页面数据\n",
    "   - 使用方法：**requests.get(url,params=None,\\*\\*kwargs)**\n",
    "      - **url**:  拟获取页面的 url 链接地址；\n",
    "      - **params**:  url 中的额外参数，字典或字节流格式，可选；\n",
    "      - **\\*\\*kwargs**:  12个控制访问的参数；\n",
    "         - cookit\n",
    "  \n",
    "   \n",
    "        \n",
    "            "
   ]
  },
  {
   "cell_type": "code",
   "execution_count": 5,
   "metadata": {},
   "outputs": [],
   "source": [
    "import requests\n",
    "# 指定 url\n",
    "url = 'https://www.baidu.com'\n",
    "\n",
    "# 发起 get 请求：get 方法会返回请求成功的相应对象\n",
    "response = requests.get(url=url)\n",
    "response.encoding = 'utf-8'\n",
    "\n",
    "# 获取响应中的数据值：text 可以获取响应对象中字符串形式的页面数据\n",
    "\n",
    "page_data = response.text\n",
    "# print(page_data)\n",
    "\n",
    "# 持久化操作\n",
    "with open(\"baidu.html\",\"w\",encoding=\"utf-8\") as f:\n",
    "    f.write(page_data)"
   ]
  },
  {
   "cell_type": "markdown",
   "metadata": {},
   "source": [
    "#### response 对象中重要的属性\n",
    "   - **content**: 获取的是response 对象中二进制（byte）类型的页面数据；\n",
    "   - **status_code**: 返回响应状态码，200表示链接成功，404表示失败；\n",
    "   - **headers**： 返回响应头信息；\n",
    "   - **url**: 返回请求的 url；\n",
    "   - **text**: HTTP响应内容的字符串形式，即 url 对应的页面内容；\n",
    "   - **encoding**: 从HTTP header中的charset中猜测的响应内容编码方式；\n",
    "   - **apparent_encoding**: 从内容中分析出的响应内容编码格式（备选编码方式）；\n",
    "   \n",
    "#### Response 的异常：\n",
    "   - responsw.raise_for_status()**: 如果不是200，产生异常 requesrs.HTTPError,else 返回True\n",
    "   "
   ]
  },
  {
   "cell_type": "code",
   "execution_count": 6,
   "metadata": {},
   "outputs": [
    {
     "name": "stdout",
     "output_type": "stream",
     "text": [
      "<!DOCTYPE html>\r\n",
      "<!--STATUS OK--><html> <head><meta http-equiv=content-type content=text/html;charset=utf-8><meta http-equiv=X-UA-Compatible content=IE=Edge><meta content=always name=referrer><link rel=stylesheet type=text/css href=http://s1.bdstatic.com/r/www/cache/bdorz/baidu.min.css><title>百度一下，你就知道</title></head> <body link=#0000cc> <div id=wrapper> <div id=head> <div class=head_wrapper> <div class=s_form> <div class=s_form_wrapper> <div id=lg> <img hidefocus=true src=//www.baidu.com/img/bd_logo1.png width=270 height=129> </div> <form id=form name=f action=//www.baidu.com/s class=fm> <input type=hidden name=bdorz_come value=1> <input type=hidden name=ie value=utf-8> <input type=hidden name=f value=8> <input type=hidden name=rsv_bp value=1> <input type=hidden name=rsv_idx value=1> <input type=hidden name=tn value=baidu><span class=\"bg s_ipt_wr\"><input id=kw name=wd class=s_ipt value maxlength=255 autocomplete=off autofocus></span><span class=\"bg s_btn_wr\"><input type=submit id=su value=百度一下 class=\"bg s_btn\"></span> </form> </div> </div> <div id=u1> <a href=http://news.baidu.com name=tj_trnews class=mnav>新闻</a> <a href=http://www.hao123.com name=tj_trhao123 class=mnav>hao123</a> <a href=http://map.baidu.com name=tj_trmap class=mnav>地图</a> <a href=http://v.baidu.com name=tj_trvideo class=mnav>视频</a> <a href=http://tieba.baidu.com name=tj_trtieba class=mnav>贴吧</a> <noscript> <a href=http://www.baidu.com/bdorz/login.gif?login&amp;tpl=mn&amp;u=http%3A%2F%2Fwww.baidu.com%2f%3fbdorz_come%3d1 name=tj_login class=lb>登录</a> </noscript> <script>document.write('<a href=\"http://www.baidu.com/bdorz/login.gif?login&tpl=mn&u='+ encodeURIComponent(window.location.href+ (window.location.search === \"\" ? \"?\" : \"&\")+ \"bdorz_come=1\")+ '\" name=\"tj_login\" class=\"lb\">登录</a>');</script> <a href=//www.baidu.com/more/ name=tj_briicon class=bri style=\"display: block;\">更多产品</a> </div> </div> </div> <div id=ftCon> <div id=ftConw> <p id=lh> <a href=http://home.baidu.com>关于百度</a> <a href=http://ir.baidu.com>About Baidu</a> </p> <p id=cp>&copy;2017&nbsp;Baidu&nbsp;<a href=http://www.baidu.com/duty/>使用百度前必读</a>&nbsp; <a href=http://jianyi.baidu.com/ class=cp-feedback>意见反馈</a>&nbsp;京ICP证030173号&nbsp; <img src=//www.baidu.com/img/gs.gif> </p> </div> </div> </div> </body> </html>\r\n",
      "\n"
     ]
    }
   ],
   "source": [
    "# 爬取网页的通用代码框架\n",
    "import requests\n",
    "\n",
    "def getHTMLText(url):\n",
    "    try:\n",
    "        r = requests.get(url, timeout=30)\n",
    "        r.raise_for_status()      # 如果状态不是200，引发 HTTPError 异常\n",
    "        r.encoding = r.apparent_encoding\n",
    "        return r.text\n",
    "    except:\n",
    "        return \"产生异常\"\n",
    "    \n",
    "if __name__ == \"__main__\":\n",
    "    url = \"http://www.baidu.com\"\n",
    "    print(getHTMLText(url))\n"
   ]
  },
  {
   "cell_type": "code",
   "execution_count": null,
   "metadata": {},
   "outputs": [],
   "source": []
  },
  {
   "cell_type": "markdown",
   "metadata": {},
   "source": [
    "#### requests 模块如何处理携带参数的 get 请求\n",
    "   - 需求：指定一个词条，获取百度搜索结果所对应的页面数据"
   ]
  },
  {
   "cell_type": "code",
   "execution_count": 3,
   "metadata": {},
   "outputs": [],
   "source": [
    "import requests\n",
    "# 方式一：（对百度搜需要带上UA）\n",
    "url = \"https://www.sogou.com/web?query=彩民&ie=utf-8\"\n",
    "response = requests.get(url=url)\n",
    "response.encoding='utf-8'\n",
    "page_text = response.text\n",
    "# print(page_text)\n",
    "with open('caimin1.html', 'w',encoding='utf-8') as f:\n",
    "    f.write(page_text)"
   ]
  },
  {
   "cell_type": "code",
   "execution_count": 2,
   "metadata": {},
   "outputs": [
    {
     "name": "stdout",
     "output_type": "stream",
     "text": [
      "200\n"
     ]
    }
   ],
   "source": [
    "# 方式二：\n",
    "import requests\n",
    "\n",
    "url = 'https://www.sogou.com/web'\n",
    "# 将参数封装到字典中：\n",
    "params = {\n",
    "    'query':'周杰伦',\n",
    "    'ie':'utf-8'\n",
    "}\n",
    "response = requests.get(url=url,params=params)\n",
    "print(response.status_code)\n",
    "res_data = response.text\n",
    "# print(response.content)\n",
    "with open('test2.html','w',encoding='utf-8') as f:\n",
    "    f.write(res_data)\n"
   ]
  },
  {
   "cell_type": "code",
   "execution_count": 6,
   "metadata": {},
   "outputs": [
    {
     "name": "stdout",
     "output_type": "stream",
     "text": [
      "200\n"
     ]
    }
   ],
   "source": [
    "import requests\n",
    "\n",
    "url = 'https://www.baidu.com/s'\n",
    "# 将参数封装到字典中：\n",
    "params = {\n",
    "#     'query':'周杰伦',\n",
    "    'wd':'中国',\n",
    "    'ie':'utf-8'\n",
    "}\n",
    "# 自定义请求头信息\n",
    "headers = {\n",
    "    'User-Agent':'Mozilla/5.0 (Windows NT 10.0; Win64; x64) AppleWebKit/537.36 (KHTML, like Gecko) Chrome/70.0.3538.102 Safari/537.36'\n",
    "}\n",
    "response = requests.get(url=url,params=params,headers=headers)\n",
    "print(response.status_code)\n",
    "res_data = response.text\n",
    "# print(response.content)\n",
    "with open('test2.html','w',encoding='utf-8') as f:\n",
    "    f.write(res_data)\n"
   ]
  },
  {
   "cell_type": "markdown",
   "metadata": {},
   "source": [
    "### requests 的 post 请求\n",
    "   - 需求：登录豆瓣网，获取登录后的页面数据"
   ]
  },
  {
   "cell_type": "code",
   "execution_count": 8,
   "metadata": {},
   "outputs": [
    {
     "name": "stdout",
     "output_type": "stream",
     "text": [
      "415\n",
      "<html><head><title>Apache Tomcat/7.0.52 - Error report</title><style><!--H1 {font-family:Tahoma,Arial,sans-serif;color:white;background-color:#525D76;font-size:22px;} H2 {font-family:Tahoma,Arial,sans-serif;color:white;background-color:#525D76;font-size:16px;} H3 {font-family:Tahoma,Arial,sans-serif;color:white;background-color:#525D76;font-size:14px;} BODY {font-family:Tahoma,Arial,sans-serif;color:black;background-color:white;} B {font-family:Tahoma,Arial,sans-serif;color:white;background-color:#525D76;} P {font-family:Tahoma,Arial,sans-serif;background:white;color:black;font-size:12px;}A {color : black;}A.name {color : black;}HR {color : #525D76;}--></style> </head><body><h1>HTTP Status 415 - </h1><HR size=\"1\" noshade=\"noshade\"><p><b>type</b> Status report</p><p><b>message</b> <u></u></p><p><b>description</b> <u>The server refused this request because the request entity is in a format not supported by the requested resource for the requested method.</u></p><HR size=\"1\" noshade=\"noshade\"><h3>Apache Tomcat/7.0.52</h3></body></html>\n"
     ]
    }
   ],
   "source": [
    "import requests\n",
    "\n",
    "# 1.指定 post 请求的url\n",
    "url = \"https://dl.reg.163.com/l\"\n",
    "# 2. 发起 post 请求参数\n",
    "payload = {\n",
    "    \"un\":\"shiguangmengyi@163.com\",\n",
    "    \"pw\":\"Q2hd0qq7sPK/iqO9vRrz/zCsQ2MP6DZ+FIKS+JwrxNVN6vgHuQ9CNcajdFWK1pQu47d6CxrwOy0lBr4OdlOi/sqAhXRx8qA5ni9V8JYmrJ685EE5V8JWCN+ZNdKKokhI/8P1F4lPlliDoZElOFB7kttDDOnh2ZZOdSnGQZaHSjE=\",\n",
    "    \"pd\":\"study\",\n",
    "    \"l\":1,\n",
    "    \"d\":10,\n",
    "    \"t\":1543831014890,\n",
    "    \"pkid\":\"tajyMJn\",\n",
    "    \"domains\":\"\",\n",
    "    \"tk\":\"55c0899e44627f46790af2cd40475cf6\",\n",
    "    \"pwdKeyUp\":1,\n",
    "    \"rtid\":\"8Uv7rI1GetaVDxQ5uROQw3xl9WmKIQSZ\",\n",
    "    \"topURL\":\"https://study.163.com/member/logoutResult.htm\"\n",
    "}\n",
    "headers = {\n",
    "    \"User-Agent\": \"Mozilla/5.0 (Windows NT 10.0; Win64; x64) AppleWebKit/537.36 (KHTML, like Gecko) Chrome/70.0.3538.102 Safari/537.36\"\n",
    "}\n",
    "# 发起 post 请求\n",
    "res = requests.post(url=url,data=payload,headers=headers)\n",
    "# 获取响应对象中的页面数据\n",
    "page_text = res.text\n",
    "print(res.status_code)\n",
    "print(page_text)\n",
    "with open('wangyi.html','w',encoding='utf-8') as f:\n",
    "    f.write(page_text)"
   ]
  },
  {
   "cell_type": "markdown",
   "metadata": {},
   "source": [
    "### 基于ajax 的get 请求\n",
    "    -抓取豆瓣电影详情的数据"
   ]
  },
  {
   "cell_type": "code",
   "execution_count": 9,
   "metadata": {},
   "outputs": [
    {
     "name": "stdout",
     "output_type": "stream",
     "text": [
      "200\n"
     ]
    }
   ],
   "source": [
    "import requests\n",
    "url = \"https://movie.douban.com/j/chart/top_list?\"\n",
    "# 封装get 请求参数\n",
    "params={\n",
    "    'type': '17',\n",
    "    'interval_id':'100:90',\n",
    "    'action':'',\n",
    "    'start':'20',\n",
    "    'limit':'20'\n",
    "}\n",
    "response = requests.get(url=url,params=params)\n",
    "print(response.status_code)\n",
    "# print(response.text)"
   ]
  },
  {
   "cell_type": "markdown",
   "metadata": {},
   "source": [
    "### 基于 ajax 的 post 请求\n",
    "    - 需求：肯德基餐厅的位置"
   ]
  },
  {
   "cell_type": "markdown",
   "metadata": {},
   "source": [
    "import requests\n",
    "\n",
    "url = \"http://www.kfc.com.cn/kfccda/ashx/GetStoreList.ashx?op=keyword\"\n",
    "data = {\n",
    "    'cname':'', \n",
    "    'pid':'',\n",
    "    'keyword': '深圳',\n",
    "    'pageIndex': '1',\n",
    "    'pageSize': '20'\n",
    "}\n",
    "response = requests.post(url=url,data=data)\n",
    "print(response.text)"
   ]
  },
  {
   "cell_type": "markdown",
   "metadata": {},
   "source": [
    "### 综合实战\n",
    "    -爬去搜狗知乎某一词条对应一定范围页码表示的页面数据\n",
    "    "
   ]
  },
  {
   "cell_type": "code",
   "execution_count": 10,
   "metadata": {},
   "outputs": [
    {
     "name": "stdout",
     "output_type": "stream",
     "text": [
      "0\n",
      "http://tieba.baidu.com/f?kw=&kw=%E5%B9%BF%E4%B8%9C%E7%A7%91%E5%AD%A6%E6%8A%80%E6%9C%AF%E8%81%8C%E4%B8%9A%E5%AD%A6%E9%99%A2&ie=utf-8&pn=0&red_tag=h2284457636\n",
      "50\n",
      "http://tieba.baidu.com/f?kw=&kw=%E5%B9%BF%E4%B8%9C%E7%A7%91%E5%AD%A6%E6%8A%80%E6%9C%AF%E8%81%8C%E4%B8%9A%E5%AD%A6%E9%99%A2&ie=utf-8&pn=50&red_tag=e2285448399\n",
      "100\n",
      "http://tieba.baidu.com/f?kw=&kw=%E5%B9%BF%E4%B8%9C%E7%A7%91%E5%AD%A6%E6%8A%80%E6%9C%AF%E8%81%8C%E4%B8%9A%E5%AD%A6%E9%99%A2&ie=utf-8&pn=100&red_tag=c2286359112\n"
     ]
    }
   ],
   "source": [
    "import requests\n",
    "# 前三页数据\n",
    "url = \"https://tieba.baidu.com/f?kw=\"\n",
    "headers = {\n",
    "    \"User-Agent\": \"Mozilla/5.0 (Windows NT 10.0; Win64; x64) AppleWebKit/537.36 (KHTML, like Gecko) Chrome/70.0.3538.102 Safari/537.36\"\n",
    "}\n",
    "for page in range(3):\n",
    "    page *= 50\n",
    "    print(page)\n",
    "    data = {\n",
    "        'kw': '广东科学技术职业学院',\n",
    "        'ie':'utf-8',\n",
    "        'pn':page\n",
    "    }\n",
    "    res = requests.get(url=url, params=data,headers=headers)\n",
    "    print(res.url)\n",
    "    with open(\"tieba%s.html\"%page,'w',encoding='utf-8') as f:\n",
    "        f.write(res.text)"
   ]
  },
  {
   "cell_type": "markdown",
   "metadata": {},
   "source": [
    "#### 作业：\n",
    "- 爬取百度贴吧指定页码的数据值\n",
    "- 爬取糗事百科指定页码范围的数据"
   ]
  },
  {
   "cell_type": "code",
   "execution_count": 13,
   "metadata": {},
   "outputs": [
    {
     "name": "stdout",
     "output_type": "stream",
     "text": [
      "https://www.qiushibaike.com/text/page/1/\n",
      "https://www.qiushibaike.com/text/page/2/\n",
      "https://www.qiushibaike.com/text/page/3/\n",
      "https://www.qiushibaike.com/text/page/4/\n"
     ]
    }
   ],
   "source": [
    "import requests\n",
    "# 前三页数据\n",
    "\n",
    "headers = {\n",
    "    \"User-Agent\": \"Mozilla/5.0 (Windows NT 10.0; Win64; x64) AppleWebKit/537.36 (KHTML, like Gecko) Chrome/70.0.3538.102 Safari/537.36\"\n",
    "}\n",
    "for page in range(1,5):\n",
    "    url = \"https://www.qiushibaike.com/text/page/\"\n",
    "    url = url+ str(page)\n",
    "    res = requests.get(url=url,headers=headers)\n",
    "    print(res.url)\n",
    "    with open(\"qiushi%s.html\"%page,'w',encoding='utf-8') as f:\n",
    "        f.write(res.text)"
   ]
  },
  {
   "cell_type": "markdown",
   "metadata": {},
   "source": [
    "### requests 模块高级：\n",
    "   - cookie：\n",
    "       - 基于用户的用户数据\n",
    "       - 需求：爬取 xxx 用户的豆瓣网的个人主页页面数据\n",
    "   - cookie 作用：\n",
    "       - 执行登录操作（获取cookie）\n",
    "       - 在发起个人主页请求时，需要将cookie携带到该请求中\n",
    "       - 注意：session对象：发送请求（会将cookie对象进行自动存储）\n",
    "   - 代理："
   ]
  },
  {
   "cell_type": "code",
   "execution_count": 12,
   "metadata": {},
   "outputs": [
    {
     "name": "stdout",
     "output_type": "stream",
     "text": [
      "登录成功: 200\n",
      "请求状态 200\n"
     ]
    }
   ],
   "source": [
    "import requests\n",
    "# 1.发起登录请求：将cookie获取，且存储到session对象中\n",
    "session = requests.session()\n",
    "login_url = 'https://accounts.douban.com/login'\n",
    "# 2.封装请求头\n",
    "headers = {\n",
    "    \"User-Agent\": \"Mozilla/5.0 (Windows NT 10.0; Win64; x64) AppleWebKit/537.36 (KHTML, like Gecko) Chrome/70.0.3538.102 Safari/537.36\"\n",
    "}\n",
    "# 3.封装请求参数\n",
    "data = {\n",
    "    \"source\": \"index_nav\",\n",
    "    \"redir\": \"https://www.douban.com/\",\n",
    "    \"form_email\": \"shiguangmengyi@163.com\",\n",
    "    \"form_password\": \"DB163.com\",\n",
    "    \"login\": \"登录\"\n",
    "}\n",
    "# 用session对象发起请求\n",
    "login_res = session.post(url=login_url,data=data,headers=headers)\n",
    "print(\"登录成功:\",login_res.status_code)\n",
    "\n",
    "# 发起主页请求：\n",
    "url = 'https://www.douban.com/people/188196010/'\n",
    "res = session.get(url=url,headers=headers)\n",
    "print(\"请求状态\",res.status_code)\n",
    "with open(\"person.html\",\"w\",encoding=\"utf-8\") as f:\n",
    "    f.write(res.text)"
   ]
  },
  {
   "cell_type": "markdown",
   "metadata": {},
   "source": [
    "#### 代理操作：\n",
    "   - 1.代理：第三方代理本体执行相关的事物。\n",
    "   - 2.为什么要使用代理？\n",
    "      - 反爬操作\n",
    "      - 反反爬手段\n",
    "   - 3.分类：\n",
    "      - 正向代理：代替客户端获取数据\n",
    "      - 方向代理：代理服务端提供数据\n",
    "   - 4.免费代理ip的网站提供商\n",
    "      - www.goubanjia.com\n",
    "      - 快代理\n",
    "      - 西祠代理\n",
    "   - 5.代码\n",
    "      - "
   ]
  },
  {
   "cell_type": "code",
   "execution_count": 11,
   "metadata": {},
   "outputs": [],
   "source": [
    "import requests\n",
    "\n",
    "url = 'http://baidu.com/s?ie=utf-8&wd=ip'\n",
    "\n",
    "# 将代理IP封装到字典中\n",
    "proxy = {\n",
    "    'http':'117.191.11.77:80'\n",
    "}\n",
    "headers = {\n",
    "    \"User-Agent\": \"Mozilla/5.0 (Windows NT 10.0; Win64; x64) AppleWebKit/537.36 (KHTML, like Gecko) Chrome/70.0.3538.102 Safari/537.36\"\n",
    "}\n",
    "# 更换网路ip\n",
    "response = requests.get(url=url, proxies=proxy,headers=headers)\n",
    "with open(\"daili.html\",'w',encoding='utf-8') as f:\n",
    "    f.write(response.text)"
   ]
  },
  {
   "cell_type": "code",
   "execution_count": null,
   "metadata": {},
   "outputs": [],
   "source": [
    "\n"
   ]
  },
  {
   "cell_type": "code",
   "execution_count": null,
   "metadata": {},
   "outputs": [],
   "source": []
  }
 ],
 "metadata": {
  "kernelspec": {
   "display_name": "Python 3",
   "language": "python",
   "name": "python3"
  },
  "language_info": {
   "codemirror_mode": {
    "name": "ipython",
    "version": 3
   },
   "file_extension": ".py",
   "mimetype": "text/x-python",
   "name": "python",
   "nbconvert_exporter": "python",
   "pygments_lexer": "ipython3",
   "version": "3.6.4"
  }
 },
 "nbformat": 4,
 "nbformat_minor": 2
}

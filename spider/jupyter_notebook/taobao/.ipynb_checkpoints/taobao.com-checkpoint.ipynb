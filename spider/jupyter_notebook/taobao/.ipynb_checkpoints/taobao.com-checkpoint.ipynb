{
 "cells": [
  {
   "cell_type": "markdown",
   "metadata": {},
   "source": [
    "爬取淘宝首页"
   ]
  },
  {
   "cell_type": "code",
   "execution_count": 7,
   "metadata": {},
   "outputs": [],
   "source": [
    "import requests\n",
    "\n",
    "\n",
    "url = 'https://www.taobao.com'\n",
    "response = requests.get(url=url).text\n",
    "# print(response)\n",
    "with open('index.html','w',encoding='utf-8') as fp:\n",
    "    fp.write(response)\n",
    "    "
   ]
  },
  {
   "cell_type": "markdown",
   "metadata": {},
   "source": [
    "搜索页面url：\n",
    "https://s.taobao.com/search?initiative_id=tbindexz_20170306&ie=utf8&spm=a21bo.2017.201856-taobao-item.2&sourceId=tb.index&search_type=item&ssid=s5-e&commend=all&imgfile=&q=%E5%A4%B9%E5%85%8B&suggest=0_1&_input_charset=utf-8&wq=jiake&suggest_query=jiake&source=suggest\n",
    "\n",
    "or\n",
    "https://s.taobao.com/search?q=%E5%A4%B9%E5%85%8B"
   ]
  },
  {
   "cell_type": "code",
   "execution_count": 25,
   "metadata": {},
   "outputs": [
    {
     "name": "stdout",
     "output_type": "stream",
     "text": [
      "https://list.tmall.com/search_product.htm?q=%E5%A4%B9%E5%85%8B&type=p&from=.list.pc_1_suggest&spm=a220m.1000858.a2227oh.d100\n"
     ]
    }
   ],
   "source": [
    "import requests\n",
    "\n",
    "\n",
    "url = 'https://list.tmall.com/search_product.htm'\n",
    "params = {\n",
    "    'q': '夹克',\n",
    "    'type':'p',\n",
    "    'from': '.list.pc_1_suggest',\n",
    "    'spm': 'a220m.1000858.a2227oh.d100'\n",
    "}\n",
    "cookie={}\n",
    "headers={\"User-Agent\": \"Mozilla/5.0 (Windows NT 10.0; Win64; x64) AppleWebKit/537.36 (KHTML, like Gecko) Chrome/71.0.3578.98 Safari/537.36\"}\n",
    "res = requests.get(url=url,headers=headers,params=params)\n",
    "# print(res.text)\n",
    "print(res.url)\n",
    "with open('search.html','wb',) as fp:\n",
    "    fp.write(res.content)"
   ]
  },
  {
   "cell_type": "code",
   "execution_count": 22,
   "metadata": {},
   "outputs": [
    {
     "name": "stdout",
     "output_type": "stream",
     "text": [
      "<RequestsCookieJar[<Cookie thw=cn for .taobao.com/>]>\n"
     ]
    }
   ],
   "source": [
    "import requests\n",
    "\n",
    "\n",
    "url = 'https://taobao.com/'\n",
    "params = {\n",
    "    'q': '夹克'\n",
    "}\n",
    "s = requests.Session()\n",
    "headers={\"User-Agent\": \"Mozilla/5.0 (Windows NT 10.0; Win64; x64) AppleWebKit/537.36 (KHTML, like Gecko) Chrome/71.0.3578.98 Safari/537.36\"}\n",
    "res = s.get(url=url,headers=headers)\n",
    "print(res.cookies)\n",
    "# print(res.url)\n",
    "# with open('search.html','wb',) as fp:\n",
    "#     fp.write(res.content)"
   ]
  },
  {
   "cell_type": "code",
   "execution_count": null,
   "metadata": {},
   "outputs": [],
   "source": []
  }
 ],
 "metadata": {
  "kernelspec": {
   "display_name": "Python 3",
   "language": "python",
   "name": "python3"
  },
  "language_info": {
   "codemirror_mode": {
    "name": "ipython",
    "version": 3
   },
   "file_extension": ".py",
   "mimetype": "text/x-python",
   "name": "python",
   "nbconvert_exporter": "python",
   "pygments_lexer": "ipython3",
   "version": "3.6.4"
  }
 },
 "nbformat": 4,
 "nbformat_minor": 2
}

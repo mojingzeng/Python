{
 "cells": [
  {
   "cell_type": "markdown",
   "metadata": {},
   "source": [
    "### 数据解析：\n",
    "   - 1. 指定url\n",
    "   - 2. 发起请求\n",
    "   - 3. 获取页面数据\n",
    "   - 4. 数据解析\n",
    "   - 5. 进行持久化存储\n",
    "### 三种数据解析方式\n",
    "   - 1. 正则：\n",
    "   - 2. bs4:\n",
    "   - 3. Xpath:"
   ]
  },
  {
   "cell_type": "code",
   "execution_count": 1,
   "metadata": {},
   "outputs": [
    {
     "data": {
      "text/plain": [
       "'python'"
      ]
     },
     "execution_count": 1,
     "metadata": {},
     "output_type": "execute_result"
    }
   ],
   "source": [
    "import re\n",
    "# 提取 python\n",
    "key = \"javapythonc++php\"\n",
    "re.findall(\"python\",key)[0]"
   ]
  },
  {
   "cell_type": "code",
   "execution_count": 5,
   "metadata": {},
   "outputs": [
    {
     "data": {
      "text/plain": [
       "'hello word'"
      ]
     },
     "execution_count": 5,
     "metadata": {},
     "output_type": "execute_result"
    }
   ],
   "source": [
    "# 提取 hello world\n",
    "key = \"<html><h1>hello word</h1></html>\"\n",
    "re.findall('<h1>(hello word)</h1>',key)[0]"
   ]
  },
  {
   "cell_type": "code",
   "execution_count": 9,
   "metadata": {},
   "outputs": [
    {
     "data": {
      "text/plain": [
       "'170'"
      ]
     },
     "execution_count": 9,
     "metadata": {},
     "output_type": "execute_result"
    }
   ],
   "source": [
    "# 提取 170\n",
    "string = \"我喜欢身高为170的女孩\"\n",
    "#re.findall('170',string)[0]\n",
    "# 因为者组字符串中 只有170 是数字\n",
    "re.findall('\\d+', string)[0]"
   ]
  },
  {
   "cell_type": "code",
   "execution_count": 15,
   "metadata": {},
   "outputs": [
    {
     "data": {
      "text/plain": [
       "'http'"
      ]
     },
     "execution_count": 15,
     "metadata": {},
     "output_type": "execute_result"
    }
   ],
   "source": [
    "# 提取 http:// 和 https://\n",
    "key = 'http://www.baidu.com and https://bobo.com'\n",
    "# { } 里表示前一个字符出现的次数\n",
    "# re.findall('https{0,1}',key)\n",
    "# ？ 表示前一个字符，可有可无\n",
    "re.findall('https?',key)"
   ]
  },
  {
   "cell_type": "code",
   "execution_count": 17,
   "metadata": {},
   "outputs": [
    {
     "data": {
      "text/plain": [
       "['hit.']"
      ]
     },
     "execution_count": 17,
     "metadata": {},
     "output_type": "execute_result"
    }
   ],
   "source": [
    "# 提取 hit.\n",
    "key = 'bobo@hit.edu.com'\n",
    "# 贪婪模式： 根据正则表达式尽可能多的提取出数据，默认启用贪婪模式\n",
    "# re.findall('h.*\\.',key)   #['hit.edu.']  \n",
    "re.findall('h.*?\\.', key)   # 加上？取消贪婪模式"
   ]
  },
  {
   "cell_type": "code",
   "execution_count": 18,
   "metadata": {},
   "outputs": [
    {
     "data": {
      "text/plain": [
       "['saas', 'sas']"
      ]
     },
     "execution_count": 18,
     "metadata": {},
     "output_type": "execute_result"
    }
   ],
   "source": [
    "# 匹配sas 和 saas\n",
    "key =' saas and sas and saaas'\n",
    "re.findall('sa{1,2}s', key)"
   ]
  },
  {
   "cell_type": "code",
   "execution_count": 19,
   "metadata": {},
   "outputs": [
    {
     "data": {
      "text/plain": [
       "['i love you very much', 'i love she', 'i love her']"
      ]
     },
     "execution_count": 19,
     "metadata": {},
     "output_type": "execute_result"
    }
   ],
   "source": [
    "# 匹配出 i 开头的行 re.S （基于单行匹配），re.M(基于多行) \n",
    "string = '''\n",
    "fall in love with you \n",
    "i love you very much\n",
    "i love she\n",
    "i love her\n",
    "'''\n",
    "re.findall('^i.*',string,re.M)"
   ]
  },
  {
   "cell_type": "code",
   "execution_count": 20,
   "metadata": {},
   "outputs": [
    {
     "data": {
      "text/plain": [
       "['<div>静夜思\\n床前明月光，\\n疑是地上霜。\\n举头望明月，\\n低头思故乡。\\n</div>']"
      ]
     },
     "execution_count": 20,
     "metadata": {},
     "output_type": "execute_result"
    }
   ],
   "source": [
    "# 匹配全部行\n",
    "string = \"\"\"\n",
    "<div>静夜思\n",
    "床前明月光，\n",
    "疑是地上霜。\n",
    "举头望明月，\n",
    "低头思故乡。\n",
    "</div>\n",
    "\"\"\"\n",
    "re.findall('<div>.*</div>', string, re.S)"
   ]
  },
  {
   "cell_type": "markdown",
   "metadata": {},
   "source": [
    "#### 需求：使用正则匹配对糗事百科中的图片进行解析和下载\n"
   ]
  },
  {
   "cell_type": "code",
   "execution_count": 34,
   "metadata": {},
   "outputs": [
    {
     "name": "stdout",
     "output_type": "stream",
     "text": [
      "9GCG2TSAK70FI3TE.jpg写入成功！\n",
      "YQ9Y13BWR84HETFF.jpg写入成功！\n",
      "W5HFZ59FX7EQI793.jpg写入成功！\n",
      "QAJ00URW8YGMACU5.jpg写入成功！\n",
      "V6A8BABIT8CG0UI7.jpg写入成功！\n",
      "FRXFWWHBR2HDTM3P.jpg写入成功！\n",
      "V385SFQY6T70E5F0.jpg写入成功！\n",
      "TIIAN3WLIAGM9ZEV.jpg写入成功！\n",
      "CMI94ITGKEHF1VG3.jpg写入成功！\n",
      "T3FP6IG46MGVYAH5.jpg写入成功！\n",
      "IAL554DIABQBHN0H.jpg写入成功！\n",
      "ETDFGONZFI29G5IJ.jpg写入成功！\n",
      "92IYY950P9TVQIHK.jpg写入成功！\n",
      "IJXQN440RJYN8ZH0.jpg写入成功！\n",
      "11KW3WB057RQDDBN.jpg写入成功！\n",
      "L4FDMRDLKHAZEW2W.jpg写入成功！\n",
      "8OS3FL21A78L8YBM.jpg写入成功！\n",
      "T98T62KMKZ9GK4S9.jpg写入成功！\n",
      "I4OTJI3TIR0SFO3C.jpg写入成功！\n",
      "HJ6UJ57FWB9UZGVE.jpg写入成功！\n"
     ]
    }
   ],
   "source": [
    "import requests\n",
    "import re\n",
    "import os\n",
    "url = 'https://www.qiushibaike.com/pic/'\n",
    "\n",
    "headers = {\n",
    "    \"User-Agent\":\"Mozilla/5.0 (Windows NT 10.0; Win64; x64) AppleWebKit/537.36 (KHTML, like Gecko) Chrome/70.0.3538.102 Safari/537.36\"\n",
    "}\n",
    "# 获取页面数据\n",
    "response = requests.get(url=url, headers=headers)\n",
    "page_text = response.text\n",
    "# with open(\"./糗事百科.html\",'w',encoding=\"utf-8\") as f:\n",
    "#     f.write(page_text)\n",
    "# 正则获取目标内容图片的src\n",
    "img_list = re.findall('<div class=\"thumb\">.*?<img src=\"(.*?)\".*?>.*?</div>', page_text, re.S)\n",
    "# print(img_list) \n",
    "\n",
    "# 创建一个图片数据的文件夹\n",
    "if not os.path.exists('./imgs'):\n",
    "    os.mkdir(\"imgs\")\n",
    "for url in img_list:\n",
    "    # 将图片url 拼接成完整的 url\n",
    "    url = 'https:' + url\n",
    "    # 获取图片二进制的数据值\n",
    "    img_data = requests.get(url=url,headers=headers).content\n",
    "    imgName = url.split('/')[-1]\n",
    "    imgPath = \"imgs/\" + imgName\n",
    "    with open(imgPath,\"wb\") as fp:\n",
    "        fp.write(img_data)\n",
    "        print(imgName + \"写入成功！\")"
   ]
  },
  {
   "cell_type": "code",
   "execution_count": 26,
   "metadata": {},
   "outputs": [
    {
     "name": "stdout",
     "output_type": "stream",
     "text": [
      "['//pic.qiushibaike.com/system/pictures/12132/121322990/medium/VN1F4760VMLGXXML.jpg']\n"
     ]
    }
   ],
   "source": [
    "str = '''<div class=\"thumb\">\n",
    "<a href=\"/article/121322990\" target=\"_blank\">\n",
    "<img src=\"//pic.qiushibaike.com/system/pictures/12132/121322990/medium/VN1F4760VMLGXXML.jpg\" alt=\"想要五个字\">\n",
    "</a>\n",
    "</div>'''\n",
    "# print(str)\n",
    "img_list = re.findall('<div class=\"thumb\">.*?src=\"(.*?)\".*?</div>', str, re.S)\n",
    "print(img_list)"
   ]
  },
  {
   "cell_type": "code",
   "execution_count": null,
   "metadata": {},
   "outputs": [],
   "source": []
  }
 ],
 "metadata": {
  "kernelspec": {
   "display_name": "Python 3",
   "language": "python",
   "name": "python3"
  },
  "language_info": {
   "codemirror_mode": {
    "name": "ipython",
    "version": 3
   },
   "file_extension": ".py",
   "mimetype": "text/x-python",
   "name": "python",
   "nbconvert_exporter": "python",
   "pygments_lexer": "ipython3",
   "version": "3.6.4"
  }
 },
 "nbformat": 4,
 "nbformat_minor": 2
}

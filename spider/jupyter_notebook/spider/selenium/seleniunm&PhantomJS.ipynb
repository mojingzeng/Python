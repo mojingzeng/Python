{
 "cells": [
  {
   "cell_type": "code",
   "execution_count": 13,
   "metadata": {},
   "outputs": [
    {
     "name": "stdout",
     "output_type": "stream",
     "text": [
      "[{'domain': '.baidu.com', 'httpOnly': False, 'name': 'H_PS_PSSID', 'path': '/', 'secure': False, 'value': '1431_21091_28206_28131_28140_22158'}, {'domain': '.baidu.com', 'httpOnly': False, 'name': 'delPer', 'path': '/', 'secure': False, 'value': '0'}, {'domain': '.baidu.com', 'expiry': 3693900442.21576, 'httpOnly': False, 'name': 'BAIDUID', 'path': '/', 'secure': False, 'value': '03921108A63D3741DC747EABFEC4AEA5:FG=1'}, {'domain': '.baidu.com', 'expiry': 3693900442.215795, 'httpOnly': False, 'name': 'BIDUPSID', 'path': '/', 'secure': False, 'value': '03921108A63D3741DC747EABFEC4AEA5'}, {'domain': '.baidu.com', 'expiry': 3693900442.215812, 'httpOnly': False, 'name': 'PSTM', 'path': '/', 'secure': False, 'value': '1546416798'}, {'domain': 'www.baidu.com', 'httpOnly': False, 'name': 'BD_HOME', 'path': '/', 'secure': False, 'value': '0'}, {'domain': '.baidu.com', 'expiry': 1546503198.572659, 'httpOnly': False, 'name': 'BDORZ', 'path': '/', 'secure': False, 'value': 'B490B5EBF6F3CD402E515D22BCDA1598'}, {'domain': 'www.baidu.com', 'expiry': 1547280795, 'httpOnly': False, 'name': 'BD_UPN', 'path': '/', 'secure': False, 'value': '12314753'}, {'domain': 'www.baidu.com', 'httpOnly': False, 'name': 'BD_CK_SAM', 'path': '/', 'secure': False, 'value': '1'}, {'domain': '.baidu.com', 'httpOnly': False, 'name': 'PSINO', 'path': '/', 'secure': False, 'value': '6'}, {'domain': 'www.baidu.com', 'expiry': 1546419390, 'httpOnly': False, 'name': 'H_PS_645EC', 'path': '/', 'secure': False, 'value': '188aK%2BocISt3eM%2Bp0AW9cwnCdkZkibPOo3okoO%2Bzld5TZ3zLqOxXBuikpVY'}, {'domain': 'www.baidu.com', 'httpOnly': False, 'name': 'BDSVRTM', 'path': '/', 'secure': False, 'value': '153'}]\n",
      "**************************************************\n",
      "{'H_PS_PSSID': '1431_21091_28206_28131_28140_22158', 'delPer': '0', 'BAIDUID': '03921108A63D3741DC747EABFEC4AEA5:FG=1', 'BIDUPSID': '03921108A63D3741DC747EABFEC4AEA5', 'PSTM': '1546416798', 'BD_HOME': '0', 'BDORZ': 'B490B5EBF6F3CD402E515D22BCDA1598', 'BD_UPN': '12314753', 'BD_CK_SAM': '1', 'PSINO': '6', 'H_PS_645EC': '188aK%2BocISt3eM%2Bp0AW9cwnCdkZkibPOo3okoO%2Bzld5TZ3zLqOxXBuikpVY', 'BDSVRTM': '153'}\n"
     ]
    }
   ],
   "source": [
    "from selenium import webdriver\n",
    "import time\n",
    "\n",
    "# 实例化一个浏览器\n",
    "driver = webdriver.Chrome()\n",
    "# driver = webdriver.PhontomJS()\n",
    "\n",
    "# 发送给请求\n",
    "driver.get(\"https://www.baidu.com\")\n",
    "# 设置窗口大小\n",
    "driver.set_window_size(1920,1080)\n",
    "# 最大化窗口\n",
    "driver.maximize_window()\n",
    "\n",
    "# 进行页面截屏\n",
    "driver.save_screenshot(\"./baidu.png\")\n",
    "\n",
    "# 元素定位的方法\n",
    "driver.find_element_by_id(\"kw\").send_keys(\"python\")\n",
    "# 提交\n",
    "driver.find_element_by_id(\"su\").click()\n",
    "time.sleep(3)\n",
    "# 获取html数据\n",
    "data = driver.page_source\n",
    "with open('./baidu.html','w', encoding='utf-8') as fp:\n",
    "    fp.write(data)\n",
    "\n",
    "# 获取cookie\n",
    "cookies = driver.get_cookies()\n",
    "print(cookies)\n",
    "print(\"*\" * 50)\n",
    "cookies = { i[\"name\"]: i[\"value\"] for i in cookies}\n",
    "print(cookies)\n",
    "time.sleep(3)\n",
    "# 关闭浏览器\n",
    "driver.quit()"
   ]
  },
  {
   "cell_type": "code",
   "execution_count": null,
   "metadata": {},
   "outputs": [],
   "source": []
  },
  {
   "cell_type": "code",
   "execution_count": null,
   "metadata": {},
   "outputs": [],
   "source": []
  }
 ],
 "metadata": {
  "kernelspec": {
   "display_name": "Python 3",
   "language": "python",
   "name": "python3"
  },
  "language_info": {
   "codemirror_mode": {
    "name": "ipython",
    "version": 3
   },
   "file_extension": ".py",
   "mimetype": "text/x-python",
   "name": "python",
   "nbconvert_exporter": "python",
   "pygments_lexer": "ipython3",
   "version": "3.6.4"
  }
 },
 "nbformat": 4,
 "nbformat_minor": 2
}

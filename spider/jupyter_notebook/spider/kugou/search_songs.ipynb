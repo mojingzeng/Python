{
 "cells": [
  {
   "cell_type": "markdown",
   "metadata": {},
   "source": [
    "### 需求：输入歌名获取到歌曲下载链接\n",
    "    - url:https://www.kugou.com/yy/html/search.html#searchType=song&searchKeyWord=\n",
    "    - "
   ]
  },
  {
   "cell_type": "code",
   "execution_count": 103,
   "metadata": {},
   "outputs": [],
   "source": [
    "import requests\n",
    "#import json\n",
    "\n",
    "\n",
    "song_name = \"爱情买卖\"\n",
    "params1={'keyword': '爱你一万年',\n",
    "'page': 1,\n",
    "'pagesize': 30,\n",
    "'userid': -1,\n",
    "'clientver':'', \n",
    "'platform': 'WebFilter',\n",
    "'tag': 'em',\n",
    "'filter': 2,\n",
    "'iscorrection': 1,\n",
    "'privilege_filter': 0}\n",
    "params = {'format': 'jsonp','keyword': '爱你一万年','page': 1,'pagesize': 30,'showtype': 1,}\n",
    "#url = \"https://songsearch.kugou.com/song_search_v2\"\n",
    "url = \"https://mobiles.service.kugou.com/api/v3/search/song\"\n",
    "headers = {\n",
    "    \"User-Agent\": \"Mozilla/5.0 (iPhone; CPU iPhone OS 11_0 like Mac OS X) AppleWebKit/604.1.38 (KHTML, like Gecko) Version/11.0 Mobile/15A372 Safari/604.1\"\n",
    "}\n",
    "\n",
    "\n"
   ]
  },
  {
   "cell_type": "markdown",
   "metadata": {},
   "source": [
    "搜索歌曲列表，获取hash值\n",
    "https://mobiles.service.kugou.com/api/v3/search/song?keyword=%E6%B2%99%E6%BC%A0%E9%AA%86%E9%A9%BC&page=1&pagesize=2\n",
    "\n",
    "获取歌曲详细信息\n",
    "https://m3ws.kugou.com/app/i/getSongInfo.php?cmd=playInfo&hash=0D0CD85787B2988DC372A315EFD632FC&from=mkugou\n",
    "320hash\n",
    "https://m3ws.kugou.com/app/i/getSongInfo.php?cmd=playInfo&hash=8e713a5c3c22030b3a7443e1c9dca522&from=mkugou"
   ]
  },
  {
   "cell_type": "code",
   "execution_count": 104,
   "metadata": {},
   "outputs": [
    {
     "name": "stdout",
     "output_type": "stream",
     "text": [
      "please input a song's name:十年\n",
      "53df727308694879cfb2bf2c65fdb578 陈奕迅 - 十年 (Live)\n",
      "陈奕迅 - 十年 (Live).m4a\n",
      "811014\n",
      "811014\n",
      "it's ok!\n"
     ]
    }
   ],
   "source": [
    "import requests,json,os\n",
    "\n",
    "songName = input(\"please input a song's name:\")\n",
    "params = {\n",
    "    \"keyword\":songName,\n",
    "    \"page\":1,\n",
    "    \"pagesize\":10}\n",
    "headers = {\n",
    "    \"User-Agent\": \"Mozilla/5.0 (iPhone; CPU iPhone OS 11_0 like Mac OS X) AppleWebKit/604.1.38 (KHTML, like Gecko) Version/11.0 Mobile/15A372 Safari/604.1\"\n",
    "}\n",
    "url = \"https://mobiles.service.kugou.com/api/v3/search/song\"\n",
    "\n",
    "songInfo = requests.get(url=url,params=params,headers=headers).text\n",
    "#print(songInfo)\n",
    "songInfoDict = json.loads(songInfo)\n",
    "#print(type(songInfoDict))\n",
    "#print(songInfoDict)\n",
    "songListInfo = songInfoDict.get(\"data\").get(\"info\")\n",
    "# 检测是否需要付费\n",
    "for songDictInfo in songListInfo:\n",
    "    price_sq = songDictInfo.get(\"price_sq\")\n",
    "    if price_sq == 0:\n",
    "        songHash = songDictInfo.get(\"hash\")\n",
    "        fileName = songDictInfo.get(\"filename\") \n",
    "        print(songHash,fileName)\n",
    "        break\n",
    "\"\"\"\n",
    "name = songListInfo.get(\"songname\") \n",
    "singer = songListInfo.get(\"singername\")\n",
    "# 获取歌曲 hash 值\n",
    "songHash = ssongListInfo.get(\"hash\")\n",
    "print(name,singer,songHash)\n",
    "\"\"\"\n",
    "# 发起请求，获取音乐url\n",
    "url_2 = \"https://m3ws.kugou.com/app/i/getSongInfo.php\"\n",
    "params_2 = {\n",
    "    \"cmd\":\"playInfo\",\n",
    "    \"hash\":songHash,\n",
    "    \"from\":\"mkugou\"\n",
    "}\n",
    "song_detail_response = requests.get(url=url_2,params=params_2,headers=headers).text\n",
    "#print(song_detail_response)\n",
    "song_detail_dict = json.loads(song_detail_response)\n",
    "#song_detail_dict_tmp = song_detail_dict.get(\"extra\")\n",
    "song_url = song_detail_dict.get(\"url\")\n",
    "fileName = song_detail_dict.get(\"fileName\")\n",
    "extName = song_detail_dict.get(\"extName\")\n",
    "songName = fileName + \".\" + extName\n",
    "fileSize = song_detail_dict.get(\"fileSize\")\n",
    "print(songName)\n",
    "#print(song_url)\n",
    "get_song = requests.get(url=song_url)\n",
    "with open(songName,'wb') as fp:\n",
    "    fp.write(get_song.content)\n",
    "fp.close()\n",
    "size = os.path.getsize(os.path.join(os.getcwd(),songName))\n",
    "print(fileSize)\n",
    "print(size)\n",
    "print(\"it's ok!\")\n"
   ]
  },
  {
   "cell_type": "code",
   "execution_count": 53,
   "metadata": {},
   "outputs": [
    {
     "name": "stdout",
     "output_type": "stream",
     "text": [
      "E:\\GitHub\\Python\\spider\\jupyter_notebook\\spider\\kugou\\刘德华 - 爱你一万年.m4a\n"
     ]
    },
    {
     "data": {
      "text/plain": [
       "1202621"
      ]
     },
     "execution_count": 53,
     "metadata": {},
     "output_type": "execute_result"
    }
   ],
   "source": [
    "import os\n",
    "songname = \"刘德华 - 爱你一万年.m4a\"\n",
    "filename = os.getcwd()\n",
    "path = os.path.join(filename,songname)\n",
    "print(path)\n",
    "os.path.getsize(path)\n",
    "\n"
   ]
  },
  {
   "cell_type": "code",
   "execution_count": null,
   "metadata": {},
   "outputs": [],
   "source": [
    "网页版：\n",
    "\n",
    "https://songsearch.kugou.com/song_search_v2?callback=jQuery112403489418907621191_1555247796150&keyword=%E6%B2%99%E6%BC%A0%E9%AA%86%E9%A9%BC&page=1&pagesize=30&userid=-1&clientver=&platform=WebFilter&tag=em&filter=2&iscorrection=1&privilege_filter=0&_=1555247796156\n",
    "\n",
    "\n",
    "https://wwwapi.kugou.com/yy/index.php?r=play/getdata&hash=0D0CD85787B2988DC372A315EFD632FC\n",
    "https://wwwapi.kugou.com/yy/index.php?r=play/getdata&callback=jQuery1910018718268703512564_1555247313827&hash=0D0CD85787B2988DC372A315EFD632FC&album_id=2713184&_=1555247313829"
   ]
  },
  {
   "cell_type": "code",
   "execution_count": 102,
   "metadata": {},
   "outputs": [
    {
     "name": "stdout",
     "output_type": "stream",
     "text": [
      "please input a song's name:秋天不回来\n",
      "01E533107AB314BFFAA28F54079D252E 王强 - 秋天不回来\n",
      "********************************************\n",
      "http://fs.w.kugou.com/201904142326/2bb5676c2c37e22815a4ec4408eb21c4/G006/M06/03/13/Rg0DAFT-za-ANuJ3AD5-O8sx6Rk320.mp3\n",
      ".mp3\n",
      "王强 - 秋天不回来..mp3\n",
      "4095547\n",
      "4095547\n",
      "it's ok!\n"
     ]
    }
   ],
   "source": [
    "import requests,json,os\n",
    "\n",
    "songName = input(\"please input a song's name:\")\n",
    "params = {\n",
    "    \"keyword\":songName,\n",
    "    \"page\":1,\n",
    "    \"platform\": \"WebFilter\",\n",
    "    \"pagesize\":10,\n",
    "    \"privilege_filter\": 0,\n",
    "}\n",
    "headers = {\n",
    " #   \"User-Agent\": \"Mozilla/5.0 (iPhone; CPU iPhone OS 11_0 like Mac OS X) AppleWebKit/604.1.38 (KHTML, like Gecko) Version/11.0 Mobile/15A372 Safari/604.1\"\n",
    "}\n",
    "url = \"https://songsearch.kugou.com/song_search_v2\"\n",
    "\n",
    "songInfo = requests.get(url=url,params=params,headers=headers).text\n",
    "#print(songInfo)\n",
    "songInfoDict = json.loads(songInfo)\n",
    "#print(type(songInfoDict))\n",
    "#print(songInfoDict)\n",
    "songListInfo = songInfoDict.get(\"data\").get(\"lists\")[0]\n",
    "songHash = songListInfo.get(\"FileHash\")\n",
    "fileName = songListInfo.get(\"FileName\")\n",
    "print(songHash,fileName)\n",
    "\n",
    "'''\n",
    "# 检测是否需要付费\n",
    "print(songListInfo)\n",
    "for songDictInfo in songListInfo:\n",
    "    #price_sq = songDictInfo.get(\"price_sq\")\n",
    "    #print(songDictInfo)\n",
    "    #print(price_sq,type(price_sq))\n",
    "    #if price_sq != 0:\n",
    "        songHash = songDictInfo.get(\"FileHash\")\n",
    "        fileName = songDictInfo.get(\"FileName\")\n",
    "        print(songHash,fileName)\n",
    "        break\n",
    "'''\n",
    "print(\"********************************************\")\n",
    "# 发起请求，获取音乐url\n",
    "# https://wwwapi.kugou.com/yy/index.php?r=play/getdata&hash=0D0CD85787B2988DC372A315EFD632FC\n",
    "url_2 = \"https://wwwapi.kugou.com/yy/index.php\"\n",
    "params_2 = {\n",
    "    \"r\":\"play/getdata\",\n",
    "    \"hash\":songHash,\n",
    "}\n",
    "try:\n",
    "    song_detail_response = requests.get(url=url_2,params=params_2,headers=headers).text\n",
    "    #print(song_detail_response.url)\n",
    "    song_detail_dict = json.loads(song_detail_response).get(\"data\")\n",
    "    #print(song_detail_dict)\n",
    "    song_url = song_detail_dict.get(\"play_url\")\n",
    "    print(song_url)\n",
    "    extName = song_url[-4:]\n",
    "    print(extName)\n",
    "    songName = fileName + \".\" + extName\n",
    "    fileSize = song_detail_dict.get(\"filesize\")\n",
    "    print(songName)\n",
    "    #print(song_url)\n",
    "    get_song = requests.get(url=song_url)\n",
    "    with open(songName,'wb') as fp:\n",
    "        fp.write(get_song.content)\n",
    "    fp.close()\n",
    "    size = os.path.getsize(os.path.join(os.getcwd(),songName))\n",
    "    print(fileSize)\n",
    "    print(size)\n",
    "except:\n",
    "    print(\"出错了！\")\n",
    "print(\"it's ok!\")\n"
   ]
  },
  {
   "cell_type": "code",
   "execution_count": null,
   "metadata": {},
   "outputs": [],
   "source": []
  },
  {
   "cell_type": "code",
   "execution_count": null,
   "metadata": {},
   "outputs": [],
   "source": []
  }
 ],
 "metadata": {
  "kernelspec": {
   "display_name": "Python 3",
   "language": "python",
   "name": "python3"
  },
  "language_info": {
   "codemirror_mode": {
    "name": "ipython",
    "version": 3
   },
   "file_extension": ".py",
   "mimetype": "text/x-python",
   "name": "python",
   "nbconvert_exporter": "python",
   "pygments_lexer": "ipython3",
   "version": "3.6.4"
  }
 },
 "nbformat": 4,
 "nbformat_minor": 2
}

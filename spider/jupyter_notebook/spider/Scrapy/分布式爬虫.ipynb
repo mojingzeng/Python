{
 "cells": [
  {
   "cell_type": "markdown",
   "metadata": {},
   "source": [
    "### 分布式爬虫\n",
    "\n",
    "   - 概念：在多台机器上可以执行同一个爬虫程序，实现网站数据的分布爬取。\n",
    "   - 原生scrapy 是不可以实现分布式爬虫？\n",
    "      - 调度器无法共享\n",
    "      - 管道无法共享\n",
    "   - scrapy-redis 组件：专门为 scrapy 开发的一套组件。该组件可以让scrapy 实现分布式。\n",
    "      - 下载：pip install scrapy-redis\n",
    "      -\n",
    "   - 分布式爬取的流程：\n",
    "      - redis 配置文件的配置(redis.conf)\n",
    "         - 对 bind 127.0.0.1 进行注释  # 让redis能被多台机器访问\n",
    "         - protected-mode no   # 关闭保护模式\n",
    "      - redis 服务器的开启：基于配置的配置文件\n",
    "      - 创建 scrapy 工程后，创建基于 crawlSpider 的爬虫文件\n",
    "      - 导入 RedisCrawlSpider 类，然后将爬虫文件修改成基于该类的源文件。\n",
    "         - from scrapy_redis.spiders import RedisCrawlSpider,    \n",
    "      - 将 start_url 修改成 redis_key = 'xxx'\n",
    "      - 将项目的管道和调度器配置成基于 scrapy-redis 组件中\n",
    "      - 执行爬虫文件： scrapy runspider spiderName.py  # 爬虫文件\n",
    "      - 将起始url 放置到调度器的队列中：redis-client: lpush 队列的起始名称(redis-key) 起始 url\n",
    "      "
   ]
  }
 ],
 "metadata": {
  "kernelspec": {
   "display_name": "Python 3",
   "language": "python",
   "name": "python3"
  },
  "language_info": {
   "codemirror_mode": {
    "name": "ipython",
    "version": 3
   },
   "file_extension": ".py",
   "mimetype": "text/x-python",
   "name": "python",
   "nbconvert_exporter": "python",
   "pygments_lexer": "ipython3",
   "version": "3.6.4"
  }
 },
 "nbformat": 4,
 "nbformat_minor": 2
}

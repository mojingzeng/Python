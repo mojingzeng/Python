{
 "cells": [
  {
   "cell_type": "markdown",
   "metadata": {},
   "source": [
    "#### 持久化存储操作：\n",
    "   - 磁盘文件\n",
    "      - 基于终端指令\n",
    "         - 保证 parse 方法返回一个可迭代类型的对象(存储解析到的页面内容)(return xx)\n",
    "         - 使用终端指令完成数据存储到指定磁盘文件中的操作 \n",
    "             scrapy crawl qiubai -o qiubai.csv --nolog\n",
    "      - 基于管道\n",
    "         - items.py:存储解析到的页面数据\n",
    "            \n",
    "         - pipelines.py: 处理持久化存储的相关操作\n",
    "         \n",
    "         - 代码流程：\n",
    "            - 将解析到的页面数据存储到items 对象\n",
    "            - 使用yield 关键字将items 提交给管道文件进行处理\n",
    "            - 在管道文件中编写代码完成数据存储的操作\n",
    "            - 在配置文件中开启管道操作\n",
    "      \n",
    "  - 数据库\n",
    "     - mysql\n",
    "     - redies\n",
    "     - 代码流程：\n",
    "          - 将解析到的页面数据存储到items 对象\n",
    "          - 使用yield 关键字将items 提交给管道文件进行处理\n",
    "          - 在管道文件中编写代码完成数据存储的操作\n",
    "          - 在配置文件中开启管道操作"
   ]
  },
  {
   "cell_type": "markdown",
   "metadata": {},
   "source": [
    "### 多个url 的爬取\n",
    "\n",
    "   - 手动请求：\n",
    "      - 在parse()函数下指定一个url\n",
    "         - url = \"\"\n",
    "         - yield scrapy.Request(url=url,callback = self.parse)\n",
    "         - callback: 将请求到的页面数据交给解析函数去解析"
   ]
  }
 ],
 "metadata": {
  "kernelspec": {
   "display_name": "Python 3",
   "language": "python",
   "name": "python3"
  },
  "language_info": {
   "codemirror_mode": {
    "name": "ipython",
    "version": 3
   },
   "file_extension": ".py",
   "mimetype": "text/x-python",
   "name": "python",
   "nbconvert_exporter": "python",
   "pygments_lexer": "ipython3",
   "version": "3.6.4"
  }
 },
 "nbformat": 4,
 "nbformat_minor": 2
}
